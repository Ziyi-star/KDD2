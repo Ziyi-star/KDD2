{
 "cells": [
  {
   "cell_type": "markdown",
   "metadata": {},
   "source": [
    "# Dichtebasiertes Clustering mit OPTICS\n",
    "\n",
    "\n",
    "![Optics Clustering](optics.png)\n",
    "\n",
    "Implementieren Sie den Clustering-Algorithmus OPTICS als Jupyter-Notebook! Nutzen Sie das unten gegebene Grundgerüst und beachten Sie die folgenden Anforderungen:\n",
    "\n",
    "- Kennzeichnen Sie im Code, welcher der Cluster das Rauschen modelliert.\n",
    "- Der Algorithmus OPTICS liefert eine sortierte Liste der zu clusternden Objekte zusammen mit einigen Daten (aus dieser wird dann mit $\\varepsilon'$ das eigentliche Clustering erstellt).\n",
    "- Benutzen Sie die Euklidische Distanz.\n",
    "- Nutzen Sie auch andere Datensätze zum Testen. Sie können zum Beispiel auch den iris-Datensatz mit Optics clustern. Überlegen Sie sich verschiedene (sinnvolle) Parameter für $\\varepsilon$, $\\varepsilon'$ und $\\text{minPts}$. Beachten Sie dabei, dass die Ergebnisse nicht immer vollständig Übereinstimmen müssen. Warum?\n",
    "- Sie müssen kein eigenes Sortierverfahren schreiben. Verwenden Sie stattdessen den Datentyp *SortedListWithKey*. Dafür müssen Sie das Paket *sortedcontainers* installieren, falls\n",
    "es nicht bereits vorinstalliert ist. Die schon installieten Pakete lassen sich im Terminal (Linux) oder in der Anaconda-Prompt (Windows) durch den Befehl ``conda list`` anzeigen.\n",
    "Für die Installation gibt es zwei Möglichkeiten.\n",
    "    - In Anaconda unter Environments *Not installed* auswählen und den Paketnamen im Suchfeld eingeben. Dann den *apply*-Button und *ok* drücken.\n",
    "    - In der console durch ```pip install sortedcontainers```. Hierbei müssen Sie darauf achten, dass pip sich auf die gleiche Python-Installation oder Virtual Environment bezieht, unter der auch ihr Jupyter-Notebook läuft.\n",
    "    - Wenn sich im Jupyter-Notebook der Befehl ```import sortedcontainers``` ohne Fehler ausführen lässt, war die Installation erfolgreich.\n",
    "- Das Ergebnis eines OPTICS-Durchlaufs mit den Parametern $\\text{minPts}= 5, \\varepsilon = 6.0, \\varepsilon' = 6.0$ finden Sie auf dem Bild *optics.png*.\n",
    "- Der Algorithmus OPTICS und die Berechnung eines Clusterings aus dessen Ergebnis werden ausführlich und mit Pseudocode im Artikel von Ankerst et al. vorgestellt. (Download unter: http://dx.doi.org/10.1145/304182.304187)\n",
    "- Ihre Implementierung können Sie bis zum 12.12.2022, 23:59 Uhr in Moodle abgeben.\n",
    "- Sie dürfen und sollen die externen Pakete Numpy und sortedcontainers verwenden. Außerdem benötigen Sie für die Testfunktionen matplotlib und pandas. Für die 6 ECTS Aufgabe benötigen Sie, wie Sie unten sehen, weiterhin die Pakete math und scipy. Benutzen Sie keine weiteren Drittbibliotheken!\n",
    "Sollten Sie Fragen zu den Aufgaben haben, wenden Sie sich bitte per E-Mail an [Maximilian Stubbemann](mailto:stubbemann@cs.uni-kassel.de).\n",
    "\n",
    "---\n",
    "## Zusatzaufgabe für 6 ECTS:\n",
    "#### Bearbeiten Sie diese Aufgabe nur, falls Sie am Praktikum für 6 ECTS-Punkte teilnehmen, jedoch nicht, falls Sie am Praktikum für 3 ECTS-Punkte teilnehmen.\n",
    "Optics liefert eine Clusterordnung bezüglich der Parameter $\\varepsilon$ und MinPts.\n",
    "Die Qualität der Ergebnisse hängt also maßgeblich von diesen Parametern ab. In der Vorlesung und in dem Paper von Ankerst et al werden Möglichkeiten vorgestellt, wie diese anhand eines gegebenen Datensatzes sinnvoll gewählt werden können. Implementieren Sie die Klassenmethode ``from_heuristics``, welche ein Element der Klasse Optics erstellt und dabei die Parameter $\\varepsilon$ und MinPts anhand des gegebenen Datensatzes selber wählen kann. Die Funktion soll zu einem gegebenem Datensatz ``examples`` die Parameter wie folgt bestimmen:\n",
    "- Der Parameter MinPts KANN vorgeben werden. Ist er nicht vorgegeben (d.h. er hat den Defaultwert None), so soll er mit der Formel $Minpts = 2*d+2$ berechnet werden. Hierbei ist $d$ die Dimensionalität des Datensatzes.\n",
    "- Der Parameter $\\varepsilon$ soll mittels der Formel für $r$ in Kapitel 4 des Paper bestimmt werden. Hierbei benötigen sie $Volume_{DS}$, das Volumen des Datensatzes. Dies können sie wie folgt (sehr grob) approximieren. Hat ihr Datensatz $n$ Dimensionen, so berechnen sie für jedes $i \\in \\{1,..,n\\}$ den Wert $x_i$ als Differenz von dem größten bezüglich dieser Koordinate vorkommenden Wertes minus dem kleinsten vorkommenden Wertes. Das Volumen kann dann mitels des Produktes $Volume_{DS} = \\prod_{i=1}^n x_i$ berechnet werden. Beispiel: Der Datensatz $\\{(1, 5, 3), (3, -1, -2), (7, 0, 0)\\}$ hätte das Volumen $(7-1) * (5-(-1)) *(3-(-2))=6*6*5=180$.\n",
    "\n",
    "**Hinweis:** Um zu verstehen wie Klassenmethoden in Python funktionieren, können Sie sich zum Beispiel (https://stackabuse.com/pythons-classmethod-and-staticmethod-explained/) anschauen.\n",
    "\n",
    "\n",
    "Ein wichtiges Feature des Optics Algorithmus ist, dass er visuell interpretierebare Daten über die Clusterstruktur liefert.\n",
    "\n",
    "- Veranschaulichen Sie die Reachability-Werte durch einen Plot analog zu den Plots im Paper. Schreiben Sie eine Funktion `run_and_plot2`, die, analog zu `run and plot`, DBSCAN ausführt und dann das Reachabilitydiagramm printet. Dabei soll ihre Implementierungen auch in der Lage sein, die Paramater $\\varepsilon$ und MinPts mittels ``from_heuristics`` zu bestimmen, falls sie nicht übergeben werden.\n",
    "\n"
   ]
  },
  {
   "cell_type": "markdown",
   "metadata": {},
   "source": [
    "# Implementierung"
   ]
  },
  {
   "cell_type": "code",
   "execution_count": 5,
   "metadata": {
    "jupyter": {
     "outputs_hidden": true
    }
   },
   "outputs": [],
   "source": [
    "import numpy as np\n",
    "from sortedcontainers import SortedListWithKey\n",
    "\n",
    "# Just needed for 6ECTS. Delete for 3 ECTS!\n",
    "from math import pi\n",
    "from scipy.special import gamma\n",
    "\n",
    "def euclidean_dist(x, y):\n",
    "    return np.linalg.norm(x-y)\n",
    "\n",
    "class Optics():\n",
    "    def __init__(self, epsilon=6.0, min_pts=5, dist_fun=euclidean_dist):\n",
    "        self.epsilon = epsilon\n",
    "        self.min_pts = min_pts\n",
    "        self.dist_fun = dist_fun\n",
    "    \n",
    "    def extract_clustering(self, cluster_order, epsilon_prime):\n",
    "        assert(epsilon_prime <= self.epsilon)\n",
    "        # TODO: cluster_ids\n",
    "        #seite 59 \n",
    "        pass\n",
    "    \n",
    "    def optics(self, objects):\n",
    "        # TODO \n",
    "        pass\n",
    "    \n",
    "    def expand_cluster_order(self, objects, obj, results):\n",
    "        # TODO\n",
    "#         ExpandClusterOrder(SetOfObjects, Object, E, MinPts, IrderedFile);\n",
    "# neighbors := SetOfObjects.neighbors(Object, E);\n",
    "# ObjectProcessed := TRUE;\n",
    "# Objectreachability-distance := UNDEFINED;\n",
    "# Object.setCoreDistance(neighbors, E, MinPts);\n",
    "# OrderedFile.write(Object);\n",
    "# IF Object.core-distance cz UNDEFINED THEN\n",
    "# \tOrderSeeds.update(neighbors, Object):\n",
    "# \tWHILE NOT OrderSeeds.empty() DO\n",
    "# \t\tcurrentobject := OrderSeeds.next();\n",
    "# \t\tneighbors:=SetOfObjects.neighbors(currentObject, E:\n",
    "# \t\tcurrentObject.Processed := TRUE;\n",
    "# \t\tcurrentObject.setCoreDistance(neighbors, E, MinPts)\n",
    "# \t\tOrderedFile.write(currentObject);\n",
    "# \t\tIF currentObject.core-distance<>UNDEFINED THEP\n",
    "# \t\t\tOrderSeeds.update(neighbors, currentobject);\n",
    "        pass\n",
    "     \n",
    "    @classmethod\n",
    "    def from_heuristics(cls, examples, min_pts=None, dist_fun=euclidean_dist):\n",
    "        # TODO for 6 ECTS\n",
    "        pass\n",
    "        \n",
    "        \n",
    "\n",
    "class OpticsData():\n",
    "    \"\"\"\n",
    "    This class should be used to store the needed information of\n",
    "    each individual example (i.e. datatpoint).\n",
    "    \"\"\"\n",
    "    def __init__(self, example):\n",
    "        self.example = example\n",
    "        self.core_distance = None\n",
    "        self.reachability_distance = None\n",
    "        self.processed = False\n",
    "            \n",
    "    def __str__(self):\n",
    "        # TODO: String, welcher die zum OpticsData-Objekt gehörenden Informationen in einem sinnvollen,\n",
    "        # gut lesbaren Format ausgibt.\n",
    "        pass\n",
    "    \n",
    "    def __repr__(self):\n",
    "        return self.__str__()\n",
    "    \n",
    "    def set_core_distance(self,neighbors,min_pts,dist_fun):\n",
    "        # TODO\n",
    "        pass\n",
    "    \n",
    "class OrderSeeds():\n",
    "    def __init__(self, dist_fun=euclidean_dist):\n",
    "        self.dist_fun = dist_fun\n",
    "        # TODO\n",
    "        # self.seeds = SortedListWithKey([], key=lambda obj: ... )\n",
    "    \n",
    "    def is_empty(self):\n",
    "        return len(self.seeds)==0\n",
    "    \n",
    "    def update(self, neighbors, center_object):\n",
    "        # TODO wie paper von Seite 53\n",
    "        pass\n",
    "\n",
    "def run_and_plot2(examples, epsilon, min_pts):\n",
    "    # TODO for 6 ECTS. DBSCAN hier ausführen\n",
    "    \n",
    "    pass"
   ]
  },
  {
   "cell_type": "markdown",
   "metadata": {},
   "source": [
    "# Ausführen des Clusterings\n",
    "Hier kann der implementierte Algorithmus getestet werden. Bitte an den vorhandenen Zellen nichts ändern. Sie können aber weitere Zellen mit eigenem Code hinzufügen oder andere Parameterwerte ausprobieren (die Sie in der Abgabe dann wieder auf die ursprünglichen Werte ändern)."
   ]
  },
  {
   "cell_type": "code",
   "execution_count": 6,
   "metadata": {
    "jupyter": {
     "outputs_hidden": true
    }
   },
   "outputs": [],
   "source": [
    "import pandas as pd\n",
    "import matplotlib.pyplot as plt"
   ]
  },
  {
   "cell_type": "code",
   "execution_count": 7,
   "metadata": {
    "jupyter": {
     "outputs_hidden": true
    }
   },
   "outputs": [],
   "source": [
    "def run_and_plot(examples, epsilon=None, min_pts=None, epsilon_prime=1):\n",
    "    \n",
    "    # Run OPTICS and DBSCAN\n",
    "    if not epsilon:\n",
    "        optics = Optics.from_heuristics(examples, min_pts)\n",
    "    else:\n",
    "        optics = Optics(epsilon=epsilon, min_pts=min_pts)\n",
    "        #unterschiede zwischen die beide Methoden\n",
    "    cluster_order = optics.optics(examples)\n",
    "    cluster_ids = optics.extract_clustering(cluster_order, epsilon_prime)\n",
    "    \n",
    "    # Plot the clusters\n",
    "    unique_clusters = set(cluster_ids)\n",
    "    plt.figure()\n",
    "    #？？\n",
    "    for cluster_id in unique_clusters:\n",
    "        examples_for_cluster = [cluster_order[i].example for i in range(len(cluster_ids)) if cluster_ids[i] == cluster_id]\n",
    "        x, y = [ex[0] for ex in examples_for_cluster], [ex[1] for ex in examples_for_cluster]\n",
    "        plt.scatter(x, y)\n",
    "    plt.show()"
   ]
  },
  {
   "cell_type": "code",
   "execution_count": 10,
   "metadata": {},
   "outputs": [
    {
     "data": {
      "text/plain": [
       "[[10, 41],\n",
       " [10, 51],\n",
       " [10, 8],\n",
       " [11, 14],\n",
       " [11, 17],\n",
       " [11, 45],\n",
       " [11, 55],\n",
       " [12, 21],\n",
       " [14, 12],\n",
       " [14, 49],\n",
       " [14, 51],\n",
       " [14, 55],\n",
       " [14, 8],\n",
       " [15, 17],\n",
       " [15, 32],\n",
       " [15, 46],\n",
       " [16, 23],\n",
       " [17, 20],\n",
       " [18, 14],\n",
       " [18, 48],\n",
       " [18, 51],\n",
       " [18, 55],\n",
       " [19, 37],\n",
       " [19, 4],\n",
       " [20, 17],\n",
       " [20, 23],\n",
       " [21, 26],\n",
       " [22, 30],\n",
       " [22, 43],\n",
       " [22, 49],\n",
       " [22, 54],\n",
       " [23, 22],\n",
       " [24, 28],\n",
       " [25, 13],\n",
       " [25, 25],\n",
       " [25, 31],\n",
       " [27, 9],\n",
       " [2, 8],\n",
       " [28, 28],\n",
       " [29, 17],\n",
       " [29, 31],\n",
       " [30, 13],\n",
       " [30, 37],\n",
       " [3, 12],\n",
       " [31, 24],\n",
       " [31, 48],\n",
       " [32, 27],\n",
       " [32, 4],\n",
       " [33, 29],\n",
       " [34, 23],\n",
       " [35, 17],\n",
       " [36, 27],\n",
       " [36, 41],\n",
       " [38, 24],\n",
       " [38, 9],\n",
       " [39, 33],\n",
       " [40, 14],\n",
       " [40, 21],\n",
       " [40, 40],\n",
       " [40, 42],\n",
       " [41, 23],\n",
       " [41, 36],\n",
       " [41, 45],\n",
       " [4, 15],\n",
       " [42, 27],\n",
       " [4, 25],\n",
       " [43, 41],\n",
       " [4, 4],\n",
       " [45, 38],\n",
       " [46, 10],\n",
       " [46, 31],\n",
       " [46, 44],\n",
       " [48, 19],\n",
       " [48, 33],\n",
       " [49, 25],\n",
       " [49, 30],\n",
       " [52, 12],\n",
       " [53, 30],\n",
       " [54, 36],\n",
       " [56, 22],\n",
       " [61, 18],\n",
       " [6, 7],\n",
       " [7, 11],\n",
       " [7, 16],\n",
       " [8, 20],\n",
       " [9, 28],\n",
       " [9, 34],\n",
       " [9, 4],\n",
       " [9, 47]]"
      ]
     },
     "execution_count": 10,
     "metadata": {},
     "output_type": "execute_result"
    }
   ],
   "source": [
    "data = pd.read_csv('punkte.csv', header=None)\n",
    "data\n",
    "examples = data.values.tolist()\n",
    "examples"
   ]
  },
  {
   "cell_type": "code",
   "execution_count": 10,
   "metadata": {
    "jupyter": {
     "outputs_hidden": true
    }
   },
   "outputs": [
    {
     "ename": "TypeError",
     "evalue": "'NoneType' object is not iterable",
     "output_type": "error",
     "traceback": [
      "\u001b[1;31m---------------------------------------------------------------------------\u001b[0m",
      "\u001b[1;31mTypeError\u001b[0m                                 Traceback (most recent call last)",
      "\u001b[1;32m~\\AppData\\Local\\Temp\\ipykernel_23804\\147744158.py\u001b[0m in \u001b[0;36m<cell line: 3>\u001b[1;34m()\u001b[0m\n\u001b[0;32m      1\u001b[0m \u001b[0mdata\u001b[0m \u001b[1;33m=\u001b[0m \u001b[0mpd\u001b[0m\u001b[1;33m.\u001b[0m\u001b[0mread_csv\u001b[0m\u001b[1;33m(\u001b[0m\u001b[1;34m'punkte.csv'\u001b[0m\u001b[1;33m,\u001b[0m \u001b[0mheader\u001b[0m\u001b[1;33m=\u001b[0m\u001b[1;32mNone\u001b[0m\u001b[1;33m)\u001b[0m\u001b[1;33m\u001b[0m\u001b[1;33m\u001b[0m\u001b[0m\n\u001b[0;32m      2\u001b[0m \u001b[0mexamples\u001b[0m \u001b[1;33m=\u001b[0m \u001b[0mdata\u001b[0m\u001b[1;33m.\u001b[0m\u001b[0mvalues\u001b[0m\u001b[1;33m.\u001b[0m\u001b[0mtolist\u001b[0m\u001b[1;33m(\u001b[0m\u001b[1;33m)\u001b[0m\u001b[1;33m\u001b[0m\u001b[1;33m\u001b[0m\u001b[0m\n\u001b[1;32m----> 3\u001b[1;33m \u001b[0mrun_and_plot\u001b[0m\u001b[1;33m(\u001b[0m\u001b[0mexamples\u001b[0m\u001b[1;33m,\u001b[0m \u001b[0mepsilon\u001b[0m\u001b[1;33m=\u001b[0m\u001b[1;36m6.0\u001b[0m\u001b[1;33m,\u001b[0m \u001b[0mmin_pts\u001b[0m\u001b[1;33m=\u001b[0m\u001b[1;36m5\u001b[0m\u001b[1;33m,\u001b[0m \u001b[0mepsilon_prime\u001b[0m\u001b[1;33m=\u001b[0m\u001b[1;36m6.0\u001b[0m\u001b[1;33m)\u001b[0m\u001b[1;33m\u001b[0m\u001b[1;33m\u001b[0m\u001b[0m\n\u001b[0m",
      "\u001b[1;32m~\\AppData\\Local\\Temp\\ipykernel_23804\\1579057877.py\u001b[0m in \u001b[0;36mrun_and_plot\u001b[1;34m(examples, epsilon, min_pts, epsilon_prime)\u001b[0m\n\u001b[0;32m     10\u001b[0m \u001b[1;33m\u001b[0m\u001b[0m\n\u001b[0;32m     11\u001b[0m     \u001b[1;31m# Plot the clusters\u001b[0m\u001b[1;33m\u001b[0m\u001b[1;33m\u001b[0m\u001b[0m\n\u001b[1;32m---> 12\u001b[1;33m     \u001b[0munique_clusters\u001b[0m \u001b[1;33m=\u001b[0m \u001b[0mset\u001b[0m\u001b[1;33m(\u001b[0m\u001b[0mcluster_ids\u001b[0m\u001b[1;33m)\u001b[0m\u001b[1;33m\u001b[0m\u001b[1;33m\u001b[0m\u001b[0m\n\u001b[0m\u001b[0;32m     13\u001b[0m     \u001b[0mplt\u001b[0m\u001b[1;33m.\u001b[0m\u001b[0mfigure\u001b[0m\u001b[1;33m(\u001b[0m\u001b[1;33m)\u001b[0m\u001b[1;33m\u001b[0m\u001b[1;33m\u001b[0m\u001b[0m\n\u001b[0;32m     14\u001b[0m     \u001b[1;32mfor\u001b[0m \u001b[0mcluster_id\u001b[0m \u001b[1;32min\u001b[0m \u001b[0munique_clusters\u001b[0m\u001b[1;33m:\u001b[0m\u001b[1;33m\u001b[0m\u001b[1;33m\u001b[0m\u001b[0m\n",
      "\u001b[1;31mTypeError\u001b[0m: 'NoneType' object is not iterable"
     ]
    }
   ],
   "source": [
    "data = pd.read_csv('punkte.csv', header=None)\n",
    "examples = data.values.tolist()\n",
    "run_and_plot(examples, epsilon=6.0, min_pts=5, epsilon_prime=6.0)"
   ]
  },
  {
   "cell_type": "code",
   "execution_count": 11,
   "metadata": {},
   "outputs": [
    {
     "ename": "AttributeError",
     "evalue": "'NoneType' object has no attribute 'optics'",
     "output_type": "error",
     "traceback": [
      "\u001b[1;31m---------------------------------------------------------------------------\u001b[0m",
      "\u001b[1;31mAttributeError\u001b[0m                            Traceback (most recent call last)",
      "\u001b[1;32m~\\AppData\\Local\\Temp\\ipykernel_23804\\1878767965.py\u001b[0m in \u001b[0;36m<cell line: 2>\u001b[1;34m()\u001b[0m\n\u001b[0;32m      1\u001b[0m \u001b[1;31m# Delete this cell if you just need 3 ECTS!\u001b[0m\u001b[1;33m\u001b[0m\u001b[1;33m\u001b[0m\u001b[0m\n\u001b[1;32m----> 2\u001b[1;33m \u001b[0mrun_and_plot\u001b[0m\u001b[1;33m(\u001b[0m\u001b[0mexamples\u001b[0m\u001b[1;33m,\u001b[0m \u001b[0mepsilon_prime\u001b[0m\u001b[1;33m=\u001b[0m\u001b[1;36m6.0\u001b[0m\u001b[1;33m)\u001b[0m\u001b[1;33m\u001b[0m\u001b[1;33m\u001b[0m\u001b[0m\n\u001b[0m\u001b[0;32m      3\u001b[0m \u001b[0mrun_and_plot2\u001b[0m\u001b[1;33m(\u001b[0m\u001b[0mexamples\u001b[0m\u001b[1;33m,\u001b[0m \u001b[0mmin_pts\u001b[0m\u001b[1;33m=\u001b[0m\u001b[1;36m5\u001b[0m\u001b[1;33m)\u001b[0m\u001b[1;33m\u001b[0m\u001b[1;33m\u001b[0m\u001b[0m\n",
      "\u001b[1;32m~\\AppData\\Local\\Temp\\ipykernel_23804\\1579057877.py\u001b[0m in \u001b[0;36mrun_and_plot\u001b[1;34m(examples, epsilon, min_pts, epsilon_prime)\u001b[0m\n\u001b[0;32m      6\u001b[0m     \u001b[1;32melse\u001b[0m\u001b[1;33m:\u001b[0m\u001b[1;33m\u001b[0m\u001b[1;33m\u001b[0m\u001b[0m\n\u001b[0;32m      7\u001b[0m         \u001b[0moptics\u001b[0m \u001b[1;33m=\u001b[0m \u001b[0mOptics\u001b[0m\u001b[1;33m(\u001b[0m\u001b[0mepsilon\u001b[0m\u001b[1;33m=\u001b[0m\u001b[0mepsilon\u001b[0m\u001b[1;33m,\u001b[0m \u001b[0mmin_pts\u001b[0m\u001b[1;33m=\u001b[0m\u001b[0mmin_pts\u001b[0m\u001b[1;33m)\u001b[0m\u001b[1;33m\u001b[0m\u001b[1;33m\u001b[0m\u001b[0m\n\u001b[1;32m----> 8\u001b[1;33m     \u001b[0mcluster_order\u001b[0m \u001b[1;33m=\u001b[0m \u001b[0moptics\u001b[0m\u001b[1;33m.\u001b[0m\u001b[0moptics\u001b[0m\u001b[1;33m(\u001b[0m\u001b[0mexamples\u001b[0m\u001b[1;33m)\u001b[0m\u001b[1;33m\u001b[0m\u001b[1;33m\u001b[0m\u001b[0m\n\u001b[0m\u001b[0;32m      9\u001b[0m     \u001b[0mcluster_ids\u001b[0m \u001b[1;33m=\u001b[0m \u001b[0moptics\u001b[0m\u001b[1;33m.\u001b[0m\u001b[0mextract_clustering\u001b[0m\u001b[1;33m(\u001b[0m\u001b[0mcluster_order\u001b[0m\u001b[1;33m,\u001b[0m \u001b[0mepsilon_prime\u001b[0m\u001b[1;33m)\u001b[0m\u001b[1;33m\u001b[0m\u001b[1;33m\u001b[0m\u001b[0m\n\u001b[0;32m     10\u001b[0m \u001b[1;33m\u001b[0m\u001b[0m\n",
      "\u001b[1;31mAttributeError\u001b[0m: 'NoneType' object has no attribute 'optics'"
     ]
    }
   ],
   "source": [
    "# Delete this cell if you just need 3 ECTS!\n",
    "run_and_plot(examples, epsilon_prime=6.0)\n",
    "run_and_plot2(examples, min_pts=5)"
   ]
  },
  {
   "cell_type": "code",
   "execution_count": 12,
   "metadata": {},
   "outputs": [
    {
     "ename": "TypeError",
     "evalue": "'NoneType' object is not iterable",
     "output_type": "error",
     "traceback": [
      "\u001b[1;31m---------------------------------------------------------------------------\u001b[0m",
      "\u001b[1;31mTypeError\u001b[0m                                 Traceback (most recent call last)",
      "\u001b[1;32m~\\AppData\\Local\\Temp\\ipykernel_23804\\4184230664.py\u001b[0m in \u001b[0;36m<cell line: 4>\u001b[1;34m()\u001b[0m\n\u001b[0;32m      2\u001b[0m \u001b[1;32mdel\u001b[0m \u001b[0mdata\u001b[0m\u001b[1;33m[\u001b[0m\u001b[1;34m'species'\u001b[0m\u001b[1;33m]\u001b[0m\u001b[1;33m\u001b[0m\u001b[1;33m\u001b[0m\u001b[0m\n\u001b[0;32m      3\u001b[0m \u001b[0mexamples\u001b[0m \u001b[1;33m=\u001b[0m \u001b[0mdata\u001b[0m\u001b[1;33m.\u001b[0m\u001b[0mvalues\u001b[0m\u001b[1;33m.\u001b[0m\u001b[0mtolist\u001b[0m\u001b[1;33m(\u001b[0m\u001b[1;33m)\u001b[0m\u001b[1;33m\u001b[0m\u001b[1;33m\u001b[0m\u001b[0m\n\u001b[1;32m----> 4\u001b[1;33m \u001b[0mrun_and_plot\u001b[0m\u001b[1;33m(\u001b[0m\u001b[0mexamples\u001b[0m\u001b[1;33m,\u001b[0m \u001b[0mepsilon\u001b[0m\u001b[1;33m=\u001b[0m\u001b[1;36m0.5\u001b[0m\u001b[1;33m,\u001b[0m \u001b[0mepsilon_prime\u001b[0m\u001b[1;33m=\u001b[0m\u001b[1;36m0.5\u001b[0m\u001b[1;33m,\u001b[0m \u001b[0mmin_pts\u001b[0m\u001b[1;33m=\u001b[0m\u001b[1;36m5\u001b[0m\u001b[1;33m)\u001b[0m\u001b[1;33m\u001b[0m\u001b[1;33m\u001b[0m\u001b[0m\n\u001b[0m",
      "\u001b[1;32m~\\AppData\\Local\\Temp\\ipykernel_23804\\1579057877.py\u001b[0m in \u001b[0;36mrun_and_plot\u001b[1;34m(examples, epsilon, min_pts, epsilon_prime)\u001b[0m\n\u001b[0;32m     10\u001b[0m \u001b[1;33m\u001b[0m\u001b[0m\n\u001b[0;32m     11\u001b[0m     \u001b[1;31m# Plot the clusters\u001b[0m\u001b[1;33m\u001b[0m\u001b[1;33m\u001b[0m\u001b[0m\n\u001b[1;32m---> 12\u001b[1;33m     \u001b[0munique_clusters\u001b[0m \u001b[1;33m=\u001b[0m \u001b[0mset\u001b[0m\u001b[1;33m(\u001b[0m\u001b[0mcluster_ids\u001b[0m\u001b[1;33m)\u001b[0m\u001b[1;33m\u001b[0m\u001b[1;33m\u001b[0m\u001b[0m\n\u001b[0m\u001b[0;32m     13\u001b[0m     \u001b[0mplt\u001b[0m\u001b[1;33m.\u001b[0m\u001b[0mfigure\u001b[0m\u001b[1;33m(\u001b[0m\u001b[1;33m)\u001b[0m\u001b[1;33m\u001b[0m\u001b[1;33m\u001b[0m\u001b[0m\n\u001b[0;32m     14\u001b[0m     \u001b[1;32mfor\u001b[0m \u001b[0mcluster_id\u001b[0m \u001b[1;32min\u001b[0m \u001b[0munique_clusters\u001b[0m\u001b[1;33m:\u001b[0m\u001b[1;33m\u001b[0m\u001b[1;33m\u001b[0m\u001b[0m\n",
      "\u001b[1;31mTypeError\u001b[0m: 'NoneType' object is not iterable"
     ]
    }
   ],
   "source": [
    "data = pd.read_csv('iris.csv')\n",
    "del data['species']\n",
    "examples = data.values.tolist()\n",
    "run_and_plot(examples, epsilon=0.5, epsilon_prime=0.5, min_pts=5)"
   ]
  },
  {
   "cell_type": "code",
   "execution_count": 13,
   "metadata": {},
   "outputs": [
    {
     "ename": "AttributeError",
     "evalue": "'NoneType' object has no attribute 'optics'",
     "output_type": "error",
     "traceback": [
      "\u001b[1;31m---------------------------------------------------------------------------\u001b[0m",
      "\u001b[1;31mAttributeError\u001b[0m                            Traceback (most recent call last)",
      "\u001b[1;32m~\\AppData\\Local\\Temp\\ipykernel_23804\\2605998440.py\u001b[0m in \u001b[0;36m<cell line: 2>\u001b[1;34m()\u001b[0m\n\u001b[0;32m      1\u001b[0m \u001b[1;31m# Delete this cell if you just need 3 ECTS!\u001b[0m\u001b[1;33m\u001b[0m\u001b[1;33m\u001b[0m\u001b[0m\n\u001b[1;32m----> 2\u001b[1;33m \u001b[0mrun_and_plot\u001b[0m\u001b[1;33m(\u001b[0m\u001b[0mexamples\u001b[0m\u001b[1;33m,\u001b[0m \u001b[0mmin_pts\u001b[0m\u001b[1;33m=\u001b[0m\u001b[1;36m5\u001b[0m\u001b[1;33m,\u001b[0m \u001b[0mepsilon_prime\u001b[0m\u001b[1;33m=\u001b[0m\u001b[1;36m0.5\u001b[0m\u001b[1;33m)\u001b[0m\u001b[1;33m\u001b[0m\u001b[1;33m\u001b[0m\u001b[0m\n\u001b[0m\u001b[0;32m      3\u001b[0m \u001b[0mrun_and_plot2\u001b[0m\u001b[1;33m(\u001b[0m\u001b[0mexamples\u001b[0m\u001b[1;33m)\u001b[0m\u001b[1;33m\u001b[0m\u001b[1;33m\u001b[0m\u001b[0m\n",
      "\u001b[1;32m~\\AppData\\Local\\Temp\\ipykernel_23804\\1579057877.py\u001b[0m in \u001b[0;36mrun_and_plot\u001b[1;34m(examples, epsilon, min_pts, epsilon_prime)\u001b[0m\n\u001b[0;32m      6\u001b[0m     \u001b[1;32melse\u001b[0m\u001b[1;33m:\u001b[0m\u001b[1;33m\u001b[0m\u001b[1;33m\u001b[0m\u001b[0m\n\u001b[0;32m      7\u001b[0m         \u001b[0moptics\u001b[0m \u001b[1;33m=\u001b[0m \u001b[0mOptics\u001b[0m\u001b[1;33m(\u001b[0m\u001b[0mepsilon\u001b[0m\u001b[1;33m=\u001b[0m\u001b[0mepsilon\u001b[0m\u001b[1;33m,\u001b[0m \u001b[0mmin_pts\u001b[0m\u001b[1;33m=\u001b[0m\u001b[0mmin_pts\u001b[0m\u001b[1;33m)\u001b[0m\u001b[1;33m\u001b[0m\u001b[1;33m\u001b[0m\u001b[0m\n\u001b[1;32m----> 8\u001b[1;33m     \u001b[0mcluster_order\u001b[0m \u001b[1;33m=\u001b[0m \u001b[0moptics\u001b[0m\u001b[1;33m.\u001b[0m\u001b[0moptics\u001b[0m\u001b[1;33m(\u001b[0m\u001b[0mexamples\u001b[0m\u001b[1;33m)\u001b[0m\u001b[1;33m\u001b[0m\u001b[1;33m\u001b[0m\u001b[0m\n\u001b[0m\u001b[0;32m      9\u001b[0m     \u001b[0mcluster_ids\u001b[0m \u001b[1;33m=\u001b[0m \u001b[0moptics\u001b[0m\u001b[1;33m.\u001b[0m\u001b[0mextract_clustering\u001b[0m\u001b[1;33m(\u001b[0m\u001b[0mcluster_order\u001b[0m\u001b[1;33m,\u001b[0m \u001b[0mepsilon_prime\u001b[0m\u001b[1;33m)\u001b[0m\u001b[1;33m\u001b[0m\u001b[1;33m\u001b[0m\u001b[0m\n\u001b[0;32m     10\u001b[0m \u001b[1;33m\u001b[0m\u001b[0m\n",
      "\u001b[1;31mAttributeError\u001b[0m: 'NoneType' object has no attribute 'optics'"
     ]
    }
   ],
   "source": [
    "# Delete this cell if you just need 3 ECTS!\n",
    "run_and_plot(examples, min_pts=5, epsilon_prime=0.5)\n",
    "run_and_plot2(examples)"
   ]
  }
 ],
 "metadata": {
  "kernelspec": {
   "display_name": "Python 3 (ipykernel)",
   "language": "python",
   "name": "python3"
  },
  "language_info": {
   "codemirror_mode": {
    "name": "ipython",
    "version": 3
   },
   "file_extension": ".py",
   "mimetype": "text/x-python",
   "name": "python",
   "nbconvert_exporter": "python",
   "pygments_lexer": "ipython3",
   "version": "3.9.13"
  },
  "toc": {
   "base_numbering": 1,
   "nav_menu": {},
   "number_sections": true,
   "sideBar": true,
   "skip_h1_title": false,
   "title_cell": "Table of Contents",
   "title_sidebar": "Contents",
   "toc_cell": false,
   "toc_position": {},
   "toc_section_display": true,
   "toc_window_display": false
  }
 },
 "nbformat": 4,
 "nbformat_minor": 4
}
