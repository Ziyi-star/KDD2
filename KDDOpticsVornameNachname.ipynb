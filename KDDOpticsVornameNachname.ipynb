{
 "cells": [
  {
   "cell_type": "markdown",
   "metadata": {},
   "source": [
    "# Dichtebasiertes Clustering mit OPTICS\n",
    "\n",
    "\n",
    "![Optics Clustering](optics.png)\n",
    "\n",
    "Implementieren Sie den Clustering-Algorithmus OPTICS als Jupyter-Notebook! Nutzen Sie das unten gegebene Grundgerüst und beachten Sie die folgenden Anforderungen:\n",
    "\n",
    "- Kennzeichnen Sie im Code, welcher der Cluster das Rauschen modelliert.\n",
    "- Der Algorithmus OPTICS liefert eine sortierte Liste der zu clusternden Objekte zusammen mit einigen Daten (aus dieser wird dann mit $\\varepsilon'$ das eigentliche Clustering erstellt).\n",
    "- Benutzen Sie die Euklidische Distanz.\n",
    "- Nutzen Sie auch andere Datensätze zum Testen. Sie können zum Beispiel auch den iris-Datensatz mit Optics clustern. Überlegen Sie sich verschiedene (sinnvolle) Parameter für $\\varepsilon$, $\\varepsilon'$ und $\\text{minPts}$. Beachten Sie dabei, dass die Ergebnisse nicht immer vollständig Übereinstimmen müssen. Warum?\n",
    "- Sie müssen kein eigenes Sortierverfahren schreiben. Verwenden Sie stattdessen den Datentyp *SortedListWithKey*. Dafür müssen Sie das Paket *sortedcontainers* installieren, falls\n",
    "es nicht bereits vorinstalliert ist. Die schon installieten Pakete lassen sich im Terminal (Linux) oder in der Anaconda-Prompt (Windows) durch den Befehl ``conda list`` anzeigen.\n",
    "Für die Installation gibt es zwei Möglichkeiten.\n",
    "    - In Anaconda unter Environments *Not installed* auswählen und den Paketnamen im Suchfeld eingeben. Dann den *apply*-Button und *ok* drücken.\n",
    "    - In der console durch ```pip install sortedcontainers```. Hierbei müssen Sie darauf achten, dass pip sich auf die gleiche Python-Installation oder Virtual Environment bezieht, unter der auch ihr Jupyter-Notebook läuft.\n",
    "    - Wenn sich im Jupyter-Notebook der Befehl ```import sortedcontainers``` ohne Fehler ausführen lässt, war die Installation erfolgreich.\n",
    "- Das Ergebnis eines OPTICS-Durchlaufs mit den Parametern $\\text{minPts}= 5, \\varepsilon = 6.0, \\varepsilon' = 6.0$ finden Sie auf dem Bild *optics.png*.\n",
    "- Der Algorithmus OPTICS und die Berechnung eines Clusterings aus dessen Ergebnis werden ausführlich und mit Pseudocode im Artikel von Ankerst et al. vorgestellt. (Download unter: http://dx.doi.org/10.1145/304182.304187)\n",
    "- Ihre Implementierung können Sie bis zum 12.12.2022, 23:59 Uhr in Moodle abgeben.\n",
    "- Sie dürfen und sollen die externen Pakete Numpy und sortedcontainers verwenden. Außerdem benötigen Sie für die Testfunktionen matplotlib und pandas. Für die 6 ECTS Aufgabe benötigen Sie, wie Sie unten sehen, weiterhin die Pakete math und scipy. Benutzen Sie keine weiteren Drittbibliotheken!\n",
    "Sollten Sie Fragen zu den Aufgaben haben, wenden Sie sich bitte per E-Mail an [Maximilian Stubbemann](mailto:stubbemann@cs.uni-kassel.de).\n",
    "\n",
    "---\n",
    "## Zusatzaufgabe für 6 ECTS:\n",
    "#### Bearbeiten Sie diese Aufgabe nur, falls Sie am Praktikum für 6 ECTS-Punkte teilnehmen, jedoch nicht, falls Sie am Praktikum für 3 ECTS-Punkte teilnehmen.\n",
    "Optics liefert eine Clusterordnung bezüglich der Parameter $\\varepsilon$ und MinPts.\n",
    "Die Qualität der Ergebnisse hängt also maßgeblich von diesen Parametern ab. In der Vorlesung und in dem Paper von Ankerst et al werden Möglichkeiten vorgestellt, wie diese anhand eines gegebenen Datensatzes sinnvoll gewählt werden können. Implementieren Sie die Klassenmethode ``from_heuristics``, welche ein Element der Klasse Optics erstellt und dabei die Parameter $\\varepsilon$ und MinPts anhand des gegebenen Datensatzes selber wählen kann. Die Funktion soll zu einem gegebenem Datensatz ``examples`` die Parameter wie folgt bestimmen:\n",
    "- Der Parameter MinPts KANN vorgeben werden. Ist er nicht vorgegeben (d.h. er hat den Defaultwert None), so soll er mit der Formel $Minpts = 2*d+2$ berechnet werden. Hierbei ist $d$ die Dimensionalität des Datensatzes.\n",
    "- Der Parameter $\\varepsilon$ soll mittels der Formel für $r$ in Kapitel 4 des Paper bestimmt werden. Hierbei benötigen sie $Volume_{DS}$, das Volumen des Datensatzes. Dies können sie wie folgt (sehr grob) approximieren. Hat ihr Datensatz $n$ Dimensionen, so berechnen sie für jedes $i \\in \\{1,..,n\\}$ den Wert $x_i$ als Differenz von dem größten bezüglich dieser Koordinate vorkommenden Wertes minus dem kleinsten vorkommenden Wertes. Das Volumen kann dann mitels des Produktes $Volume_{DS} = \\prod_{i=1}^n x_i$ berechnet werden. Beispiel: Der Datensatz $\\{(1, 5, 3), (3, -1, -2), (7, 0, 0)\\}$ hätte das Volumen $(7-1) * (5-(-1)) *(3-(-2))=6*6*5=180$.\n",
    "\n",
    "**Hinweis:** Um zu verstehen wie Klassenmethoden in Python funktionieren, können Sie sich zum Beispiel (https://stackabuse.com/pythons-classmethod-and-staticmethod-explained/) anschauen.\n",
    "\n",
    "\n",
    "Ein wichtiges Feature des Optics Algorithmus ist, dass er visuell interpretierebare Daten über die Clusterstruktur liefert.\n",
    "\n",
    "- Veranschaulichen Sie die Reachability-Werte durch einen Plot analog zu den Plots im Paper. Schreiben Sie eine Funktion `run_and_plot2`, die, analog zu `run and plot`, DBSCAN ausführt und dann das Reachabilitydiagramm printet. Dabei soll ihre Implementierungen auch in der Lage sein, die Paramater $\\varepsilon$ und MinPts mittels ``from_heuristics`` zu bestimmen, falls sie nicht übergeben werden.\n",
    "\n"
   ]
  },
  {
   "cell_type": "markdown",
   "metadata": {},
   "source": [
    "# Implementierung"
   ]
  },
  {
   "cell_type": "code",
   "execution_count": 42,
   "metadata": {
    "jupyter": {
     "outputs_hidden": true
    }
   },
   "outputs": [],
   "source": [
    "import numpy as np\n",
    "from sortedcontainers import SortedListWithKey\n",
    "\n",
    "# Just needed for 6ECTS. Delete for 3 ECTS!\n",
    "from math import pi\n",
    "from scipy.special import gamma\n",
    "\n",
    "def euclidean_dist(x, y):\n",
    "    a = np.array(x)\n",
    "    b = np.array(y)\n",
    "    return np.linalg.norm(a-b)\n",
    "\n",
    "class Optics():\n",
    "    def __init__(self, epsilon=6.0, min_pts=5, dist_fun=euclidean_dist):\n",
    "        self.epsilon = epsilon\n",
    "        self.min_pts = min_pts\n",
    "        self.dist_fun = dist_fun\n",
    "    \n",
    "    def extract_clustering(self, cluster_order, epsilon_prime):\n",
    "        assert(epsilon_prime <= self.epsilon)\n",
    "        # TODO: cluster_ids\n",
    "        clusters = []\n",
    "        noise = 0\n",
    "        clusterId = 1\n",
    "        for element in cluster_order:\n",
    "            if element.reachability_distance is None or element.reachability_distance > self.epsilon:\n",
    "                if element.core_distance is not None and element.core_distance <= self.epsilon:\n",
    "                    clusters.append(clusterId)\n",
    "                    clusterId += 1\n",
    "                else:\n",
    "                    clusters.append(noise)\n",
    "            else:\n",
    "                clusters.append(clusterId)\n",
    "        return clusters\n",
    "    \n",
    "    def optics(self, objects):\n",
    "        results = []\n",
    "        #speichern alle Elemente mit Rapper OpticsData um  mit Daten zu mulipulieren\n",
    "        opticsDataObjects = []\n",
    "        for element in objects:\n",
    "            # für jede Objekt ein OpticsData zu schachten\n",
    "            obj = OpticsData(element)\n",
    "            opticsDataObjects.append(obj)\n",
    "        for element in opticsDataObjects:\n",
    "            if not element.processed:\n",
    "                self.expand_cluster_order(opticsDataObjects,element,results)\n",
    "        return results\n",
    "    \n",
    "    def expand_cluster_order(self, objects, obj, results):\n",
    "        #jede obj eine List von Nachbarn geben, jede Element mit Typ OpticsData()\n",
    "        neighbors = obj.getNeighbors(self.epsilon,objects)\n",
    "        obj.processed = True\n",
    "        obj.reachability_distance = None\n",
    "        obj.set_core_distance(neighbors,self.min_pts)\n",
    "        results.append(obj)\n",
    "        orderSeeds = OrderSeeds()\n",
    "        if obj.core_distance != None:\n",
    "            orderSeeds.update(neighbors,obj)\n",
    "            while not orderSeeds.is_empty():\n",
    "                currentObj = orderSeeds.seeds.pop(0)\n",
    "                neighbors = currentObj.getNeighbors(self.epsilon,objects)\n",
    "                currentObj.processed = True\n",
    "                currentObj.set_core_distance(neighbors,self.min_pts)\n",
    "                results.append(currentObj)\n",
    "                if currentObj.core_distance != None:\n",
    "                    orderSeeds.update(neighbors,currentObj)\n",
    "        pass\n",
    "    \n",
    "   \n",
    "    @classmethod\n",
    "    def from_heuristics(cls, examples, min_pts=None, dist_fun=euclidean_dist):\n",
    "        # TODO for 6 ECTS\n",
    "        # class with intial epsilon\n",
    "        d = len(examples[0])\n",
    "        n = len(examples)\n",
    "        min_pts = 2 * d + 2 \n",
    "        exampleN = np.array(examples)\n",
    "        maxCordinate = np.max(exampleN, axis = 0)\n",
    "        minCordinate = np.min(exampleN, axis = 0)\n",
    "        volum = 1\n",
    "        for x_i,y_i in zip(maxCordinate,minCordinate):\n",
    "            volum *= abs(x_i - y_i)\n",
    "        zaeler = volum * min_pts * gamma(d/2 + 1)\n",
    "        nenner = n * np.power(pi**d,(1/2))\n",
    "        zahl = zaeler / nenner\n",
    "        epsilon = np.power(zahl,(1/d))\n",
    "        return cls(epsilon,min_pts)\n",
    "\n",
    "class OpticsData():\n",
    "    \"\"\"\n",
    "    This class should be used to store the needed information of\n",
    "    each individual example (i.e. datatpoint).\n",
    "    \"\"\"\n",
    "    def __init__(self, example):\n",
    "        self.example = example\n",
    "        self.core_distance = None\n",
    "        self.reachability_distance = None\n",
    "        self.processed = False\n",
    "            \n",
    "    def __str__(self):\n",
    "        # TODO: String, welcher die zum OpticsData-Objekt gehörenden Informationen in einem sinnvollen,\n",
    "        # gut lesbaren Format ausgibt.\n",
    "        return f'OpticsData({self.example},{self.core_distance},{self.reachability_distance})'\n",
    "    \n",
    "    def __repr__(self):\n",
    "        return self.__str__()\n",
    "    \n",
    "    def set_core_distance(self,neighbors,min_pts,dist_fun=euclidean_dist):\n",
    "        #neoghbours Größe größer als min_pts\n",
    "        if len(neighbors) >= min_pts:\n",
    "            #orden wir den List mit Abstand und nehmen wir den größte Wert \n",
    "            neighborsDistance =SortedListWithKey([])\n",
    "            for element in neighbors:\n",
    "                distance = dist_fun(element.example,self.example)\n",
    "                neighborsDistance.add(distance)   \n",
    "            self.core_distance = neighborsDistance[min_pts-1]\n",
    "        return None\n",
    "    \n",
    "    def getNeighbors(self,epsilon,objects,dist_fun=euclidean_dist):\n",
    "        neighbors = []\n",
    "        for element in objects:\n",
    "            distanceElementObj = dist_fun(element.example,self.example)\n",
    "            if distanceElementObj <= epsilon:\n",
    "                neighbors.append(element)\n",
    "        return neighbors\n",
    "        \n",
    "class OrderSeeds():\n",
    "    def __init__(self, dist_fun=euclidean_dist):\n",
    "        self.dist_fun = dist_fun\n",
    "        self.seeds = SortedListWithKey([], key=lambda obj: obj.reachability_distance)\n",
    "    \n",
    "    def is_empty(self):\n",
    "        return len(self.seeds)==0\n",
    "    \n",
    "    def update(self, neighbors, center_object,dist_fun=euclidean_dist):\n",
    "        # TODO\n",
    "        coreDist = center_object.core_distance\n",
    "        for element in neighbors:\n",
    "            #wie kann man vermeiden element 2 mal zu berechnen\n",
    "            if not element.processed:\n",
    "                newReachabilityDistance = max(coreDist,dist_fun(element.example,center_object.example))\n",
    "                if element.reachability_distance is None:\n",
    "                    element.reachability_distance = newReachabilityDistance\n",
    "                    self.seeds.add(element)\n",
    "                elif element.reachability_distance > newReachabilityDistance:\n",
    "                    element.reachability_distance = newReachabilityDistance\n",
    "        pass\n",
    "\n",
    "def run_and_plot2(examples, epsilon, min_pts):\n",
    "    # TODO for 6 ECTS. DBSCAN hier ausführen\n",
    "    if not epsilon:\n",
    "        optics = Optics.from_heuristics(examples, min_pts)\n",
    "    else:\n",
    "        optics = Optics(epsilon=epsilon, min_pts=min_pts)\n",
    "    #Anordnung für alle Objekt mit reachability distance\n",
    "    cluster_order = optics.optics(examples) \n",
    "    \n",
    "    pass"
   ]
  },
  {
   "cell_type": "markdown",
   "metadata": {},
   "source": [
    "# Ausführen des Clusterings\n",
    "Hier kann der implementierte Algorithmus getestet werden. Bitte an den vorhandenen Zellen nichts ändern. Sie können aber weitere Zellen mit eigenem Code hinzufügen oder andere Parameterwerte ausprobieren (die Sie in der Abgabe dann wieder auf die ursprünglichen Werte ändern)."
   ]
  },
  {
   "cell_type": "code",
   "execution_count": 43,
   "metadata": {
    "jupyter": {
     "outputs_hidden": true
    }
   },
   "outputs": [],
   "source": [
    "import pandas as pd\n",
    "import matplotlib.pyplot as plt"
   ]
  },
  {
   "cell_type": "code",
   "execution_count": 44,
   "metadata": {
    "jupyter": {
     "outputs_hidden": true
    }
   },
   "outputs": [],
   "source": [
    "def run_and_plot(examples, epsilon=None, min_pts=None, epsilon_prime=1):\n",
    "    \n",
    "    # Run OPTICS and DBSCAN\n",
    "    if not epsilon:\n",
    "        optics = Optics.from_heuristics(examples, min_pts)\n",
    "    else:\n",
    "        optics = Optics(epsilon=epsilon, min_pts=min_pts)\n",
    "    #Anordnung für alle Objekt mit reachability distance\n",
    "    cluster_order = optics.optics(examples) \n",
    "    cluster_ids = optics.extract_clustering(cluster_order, epsilon_prime)\n",
    "    \n",
    "    # Plot the clusters\n",
    "    unique_clusters = set(cluster_ids)\n",
    "    plt.figure()\n",
    "    for cluster_id in unique_clusters:\n",
    "        examples_for_cluster = [cluster_order[i].example for i in range(len(cluster_ids)) if cluster_ids[i] == cluster_id]\n",
    "        x, y = [ex[0] for ex in examples_for_cluster], [ex[1] for ex in examples_for_cluster]\n",
    "        plt.scatter(x, y)\n",
    "    plt.show()"
   ]
  },
  {
   "cell_type": "code",
   "execution_count": 45,
   "metadata": {},
   "outputs": [
    {
     "name": "stdout",
     "output_type": "stream",
     "text": [
      "[OpticsData([10, 41],None,None), OpticsData([10, 51],4.47213595499958,None), OpticsData([11, 55],None,4.47213595499958), OpticsData([14, 49],4.47213595499958,4.47213595499958), OpticsData([14, 51],4.0,4.47213595499958), OpticsData([9, 47],None,4.47213595499958), OpticsData([15, 46],5.0990195135927845,4.47213595499958), OpticsData([18, 48],4.123105625617661,4.47213595499958), OpticsData([22, 49],6.0,4.123105625617661), OpticsData([18, 51],4.47213595499958,4.0), OpticsData([11, 45],5.0,5.0), OpticsData([14, 55],5.656854249492381,4.0), OpticsData([18, 55],5.656854249492381,4.47213595499958), OpticsData([22, 43],None,6.0), OpticsData([22, 54],None,5.0), OpticsData([10, 8],4.242640687119285,None), OpticsData([14, 8],None,4.242640687119285), OpticsData([6, 7],4.123105625617661,4.242640687119285), OpticsData([2, 8],5.830951894845301,4.123105625617661), OpticsData([4, 4],None,4.123105625617661), OpticsData([7, 11],5.0,4.123105625617661), OpticsData([9, 4],None,4.242640687119285), OpticsData([11, 14],5.0,5.0), OpticsData([4, 15],None,5.0), OpticsData([7, 16],4.47213595499958,5.0), OpticsData([8, 20],None,4.47213595499958), OpticsData([11, 17],4.123105625617661,4.47213595499958), OpticsData([12, 21],5.0,4.123105625617661), OpticsData([15, 17],5.0,4.123105625617661), OpticsData([16, 23],5.830951894845301,5.0), OpticsData([18, 14],None,5.0), OpticsData([20, 17],5.830951894845301,5.0), OpticsData([17, 20],4.242640687119285,5.0), OpticsData([14, 12],5.0990195135927845,5.0), OpticsData([3, 12],5.656854249492381,5.0), OpticsData([20, 23],4.242640687119285,4.242640687119285), OpticsData([25, 25],4.242640687119285,5.385164807134504), OpticsData([24, 28],3.605551275463989,4.242640687119285), OpticsData([28, 28],4.242640687119285,4.0), OpticsData([32, 27],4.123105625617661,4.242640687119285), OpticsData([36, 27],4.47213595499958,4.123105625617661), OpticsData([34, 23],4.47213595499958,4.47213595499958), OpticsData([38, 24],4.123105625617661,4.47213595499958), OpticsData([40, 21],None,4.123105625617661), OpticsData([41, 23],None,4.123105625617661), OpticsData([31, 24],5.385164807134504,4.123105625617661), OpticsData([33, 29],5.0990195135927845,4.123105625617661), OpticsData([21, 26],4.123105625617661,3.605551275463989), OpticsData([23, 22],5.830951894845301,4.242640687119285), OpticsData([22, 30],5.830951894845301,3.605551275463989), OpticsData([29, 31],5.0,4.242640687119285), OpticsData([25, 31],4.242640687119285,3.605551275463989), OpticsData([42, 27],6.0,5.0), OpticsData([46, 31],None,6.0), OpticsData([15, 32],None,None), OpticsData([19, 37],None,None), OpticsData([19, 4],None,None), OpticsData([25, 13],None,None), OpticsData([27, 9],None,None), OpticsData([29, 17],None,None), OpticsData([30, 13],None,None), OpticsData([30, 37],None,None), OpticsData([31, 48],None,None), OpticsData([32, 4],None,None), OpticsData([35, 17],None,None), OpticsData([36, 41],None,None), OpticsData([38, 9],None,None), OpticsData([39, 33],None,None), OpticsData([40, 14],None,None), OpticsData([40, 40],4.123105625617661,None), OpticsData([40, 42],4.123105625617661,4.123105625617661), OpticsData([41, 36],5.385164807134504,4.123105625617661), OpticsData([43, 41],4.242640687119285,4.123105625617661), OpticsData([46, 44],None,4.242640687119285), OpticsData([41, 45],5.0990195135927845,4.123105625617661), OpticsData([45, 38],5.830951894845301,4.242640687119285), OpticsData([48, 33],5.830951894845301,5.830951894845301), OpticsData([49, 30],5.0,5.830951894845301), OpticsData([49, 25],None,5.0), OpticsData([53, 30],None,5.0), OpticsData([4, 25],None,None), OpticsData([46, 10],None,None), OpticsData([48, 19],None,None), OpticsData([52, 12],None,None), OpticsData([54, 36],None,None), OpticsData([56, 22],None,None), OpticsData([61, 18],None,None), OpticsData([9, 28],None,None), OpticsData([9, 34],None,None)]\n",
      "[0, 1, 2, 2, 2, 2, 2, 2, 2, 2, 2, 2, 2, 2, 2, 2, 3, 3, 3, 3, 3, 3, 3, 3, 3, 3, 3, 3, 3, 3, 3, 3, 3, 3, 3, 3, 3, 3, 3, 3, 3, 3, 3, 3, 3, 3, 3, 3, 3, 3, 3, 3, 3, 3, 0, 0, 0, 0, 0, 0, 0, 0, 0, 0, 0, 0, 0, 0, 0, 3, 4, 4, 4, 4, 4, 4, 4, 4, 4, 4, 0, 0, 0, 0, 0, 0, 0, 0, 0]\n"
     ]
    }
   ],
   "source": [
    "data = pd.read_csv('punkte.csv', header=None)\n",
    "data\n",
    "examples = data.values.tolist()\n",
    "epsilon=6.0\n",
    "min_pts=5\n",
    "optics = Optics(epsilon=epsilon, min_pts=min_pts)\n",
    "cluster_order = optics.optics(examples) \n",
    "epsilon_prime=1\n",
    "cluster_ids = optics.extract_clustering(cluster_order, epsilon_prime)\n",
    "print(cluster_order)\n",
    "print(cluster_ids)"
   ]
  },
  {
   "cell_type": "code",
   "execution_count": 46,
   "metadata": {
    "jupyter": {
     "outputs_hidden": true
    }
   },
   "outputs": [
    {
     "data": {
      "image/png": "[encoded data removed]",
      "text/plain": [
       "<Figure size 640x480 with 1 Axes>"
      ]
     },
     "metadata": {},
     "output_type": "display_data"
    }
   ],
   "source": [
    "data = pd.read_csv('punkte.csv', header=None)\n",
    "examples = data.values.tolist()\n",
    "run_and_plot(examples, epsilon=6.0, min_pts=5, epsilon_prime=6.0)"
   ]
  },
  {
   "cell_type": "code",
   "execution_count": 48,
   "metadata": {},
   "outputs": [
    {
     "data": {
      "image/png": "[encoded data removed]",
      "text/plain": [
       "<Figure size 640x480 with 1 Axes>"
      ]
     },
     "metadata": {},
     "output_type": "display_data"
    },
    {
     "ename": "TypeError",
     "evalue": "run_and_plot2() missing 1 required positional argument: 'epsilon'",
     "output_type": "error",
     "traceback": [
      "\u001b[1;31m---------------------------------------------------------------------------\u001b[0m",
      "\u001b[1;31mTypeError\u001b[0m                                 Traceback (most recent call last)",
      "\u001b[1;32m~\\AppData\\Local\\Temp\\ipykernel_10196\\1878767965.py\u001b[0m in \u001b[0;36m<cell line: 3>\u001b[1;34m()\u001b[0m\n\u001b[0;32m      1\u001b[0m \u001b[1;31m# Delete this cell if you just need 3 ECTS!\u001b[0m\u001b[1;33m\u001b[0m\u001b[1;33m\u001b[0m\u001b[0m\n\u001b[0;32m      2\u001b[0m \u001b[0mrun_and_plot\u001b[0m\u001b[1;33m(\u001b[0m\u001b[0mexamples\u001b[0m\u001b[1;33m,\u001b[0m \u001b[0mepsilon_prime\u001b[0m\u001b[1;33m=\u001b[0m\u001b[1;36m6.0\u001b[0m\u001b[1;33m)\u001b[0m\u001b[1;33m\u001b[0m\u001b[1;33m\u001b[0m\u001b[0m\n\u001b[1;32m----> 3\u001b[1;33m \u001b[0mrun_and_plot2\u001b[0m\u001b[1;33m(\u001b[0m\u001b[0mexamples\u001b[0m\u001b[1;33m,\u001b[0m \u001b[0mmin_pts\u001b[0m\u001b[1;33m=\u001b[0m\u001b[1;36m5\u001b[0m\u001b[1;33m)\u001b[0m\u001b[1;33m\u001b[0m\u001b[1;33m\u001b[0m\u001b[0m\n\u001b[0m",
      "\u001b[1;31mTypeError\u001b[0m: run_and_plot2() missing 1 required positional argument: 'epsilon'"
     ]
    }
   ],
   "source": [
    "# Delete this cell if you just need 3 ECTS!\n",
    "run_and_plot(examples, epsilon_prime=6.0)\n",
    "run_and_plot2(examples, min_pts=5)"
   ]
  },
  {
   "cell_type": "code",
   "execution_count": 28,
   "metadata": {},
   "outputs": [
    {
     "data": {
      "image/png": "[encoded data removed]",
      "text/plain": [
       "<Figure size 640x480 with 1 Axes>"
      ]
     },
     "metadata": {},
     "output_type": "display_data"
    }
   ],
   "source": [
    "data = pd.read_csv('iris.csv')\n",
    "del data['species']\n",
    "examples = data.values.tolist()\n",
    "run_and_plot(examples, epsilon=0.5, epsilon_prime=0.5, min_pts=5)"
   ]
  },
  {
   "cell_type": "code",
   "execution_count": 32,
   "metadata": {},
   "outputs": [
    {
     "ename": "AttributeError",
     "evalue": "'NoneType' object has no attribute 'optics'",
     "output_type": "error",
     "traceback": [
      "\u001b[1;31m---------------------------------------------------------------------------\u001b[0m",
      "\u001b[1;31mAttributeError\u001b[0m                            Traceback (most recent call last)",
      "\u001b[1;32m~\\AppData\\Local\\Temp\\ipykernel_6420\\2605998440.py\u001b[0m in \u001b[0;36m<cell line: 2>\u001b[1;34m()\u001b[0m\n\u001b[0;32m      1\u001b[0m \u001b[1;31m# Delete this cell if you just need 3 ECTS!\u001b[0m\u001b[1;33m\u001b[0m\u001b[1;33m\u001b[0m\u001b[0m\n\u001b[1;32m----> 2\u001b[1;33m \u001b[0mrun_and_plot\u001b[0m\u001b[1;33m(\u001b[0m\u001b[0mexamples\u001b[0m\u001b[1;33m,\u001b[0m \u001b[0mmin_pts\u001b[0m\u001b[1;33m=\u001b[0m\u001b[1;36m5\u001b[0m\u001b[1;33m,\u001b[0m \u001b[0mepsilon_prime\u001b[0m\u001b[1;33m=\u001b[0m\u001b[1;36m0.5\u001b[0m\u001b[1;33m)\u001b[0m\u001b[1;33m\u001b[0m\u001b[1;33m\u001b[0m\u001b[0m\n\u001b[0m\u001b[0;32m      3\u001b[0m \u001b[0mrun_and_plot2\u001b[0m\u001b[1;33m(\u001b[0m\u001b[0mexamples\u001b[0m\u001b[1;33m)\u001b[0m\u001b[1;33m\u001b[0m\u001b[1;33m\u001b[0m\u001b[0m\n",
      "\u001b[1;32m~\\AppData\\Local\\Temp\\ipykernel_6420\\111687535.py\u001b[0m in \u001b[0;36mrun_and_plot\u001b[1;34m(examples, epsilon, min_pts, epsilon_prime)\u001b[0m\n\u001b[0;32m      7\u001b[0m         \u001b[0moptics\u001b[0m \u001b[1;33m=\u001b[0m \u001b[0mOptics\u001b[0m\u001b[1;33m(\u001b[0m\u001b[0mepsilon\u001b[0m\u001b[1;33m=\u001b[0m\u001b[0mepsilon\u001b[0m\u001b[1;33m,\u001b[0m \u001b[0mmin_pts\u001b[0m\u001b[1;33m=\u001b[0m\u001b[0mmin_pts\u001b[0m\u001b[1;33m)\u001b[0m\u001b[1;33m\u001b[0m\u001b[1;33m\u001b[0m\u001b[0m\n\u001b[0;32m      8\u001b[0m     \u001b[1;31m#Anordnung für alle Objekt mit reachability distance\u001b[0m\u001b[1;33m\u001b[0m\u001b[1;33m\u001b[0m\u001b[0m\n\u001b[1;32m----> 9\u001b[1;33m     \u001b[0mcluster_order\u001b[0m \u001b[1;33m=\u001b[0m \u001b[0moptics\u001b[0m\u001b[1;33m.\u001b[0m\u001b[0moptics\u001b[0m\u001b[1;33m(\u001b[0m\u001b[0mexamples\u001b[0m\u001b[1;33m)\u001b[0m\u001b[1;33m\u001b[0m\u001b[1;33m\u001b[0m\u001b[0m\n\u001b[0m\u001b[0;32m     10\u001b[0m     \u001b[0mcluster_ids\u001b[0m \u001b[1;33m=\u001b[0m \u001b[0moptics\u001b[0m\u001b[1;33m.\u001b[0m\u001b[0mextract_clustering\u001b[0m\u001b[1;33m(\u001b[0m\u001b[0mcluster_order\u001b[0m\u001b[1;33m,\u001b[0m \u001b[0mepsilon_prime\u001b[0m\u001b[1;33m)\u001b[0m\u001b[1;33m\u001b[0m\u001b[1;33m\u001b[0m\u001b[0m\n\u001b[0;32m     11\u001b[0m \u001b[1;33m\u001b[0m\u001b[0m\n",
      "\u001b[1;31mAttributeError\u001b[0m: 'NoneType' object has no attribute 'optics'"
     ]
    }
   ],
   "source": [
    "# Delete this cell if you just need 3 ECTS!\n",
    "run_and_plot(examples, min_pts=5, epsilon_prime=0.5)\n",
    "run_and_plot2(examples)"
   ]
  },
  {
   "cell_type": "code",
   "execution_count": 33,
   "metadata": {},
   "outputs": [
    {
     "data": {
      "text/html": [
       "<style>.container { width:85% !important; }</style>"
      ],
      "text/plain": [
       "<IPython.core.display.HTML object>"
      ]
     },
     "metadata": {},
     "output_type": "display_data"
    }
   ],
   "source": [
    "from IPython.display import display, HTML\n",
    "display(HTML(\"<style>.container { width:85% !important; }</style>\"))"
   ]
  },
  {
   "cell_type": "code",
   "execution_count": null,
   "metadata": {},
   "outputs": [],
   "source": []
  },
  {
   "cell_type": "code",
   "execution_count": null,
   "metadata": {},
   "outputs": [],
   "source": []
  }
 ],
 "metadata": {
  "kernelspec": {
   "display_name": "Python 3 (ipykernel)",
   "language": "python",
   "name": "python3"
  },
  "language_info": {
   "codemirror_mode": {
    "name": "ipython",
    "version": 3
   },
   "file_extension": ".py",
   "mimetype": "text/x-python",
   "name": "python",
   "nbconvert_exporter": "python",
   "pygments_lexer": "ipython3",
   "version": "3.9.15"
  },
  "toc": {
   "base_numbering": 1,
   "nav_menu": {},
   "number_sections": true,
   "sideBar": true,
   "skip_h1_title": false,
   "title_cell": "Table of Contents",
   "title_sidebar": "Contents",
   "toc_cell": false,
   "toc_position": {},
   "toc_section_display": true,
   "toc_window_display": false
  }
 },
 "nbformat": 4,
 "nbformat_minor": 4
}
